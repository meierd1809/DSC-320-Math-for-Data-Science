{
 "cells": [
  {
   "cell_type": "markdown",
   "id": "a0fd3c82",
   "metadata": {},
   "source": [
    "## Title: Week 1 Assignment (Mathematical and Python Functions)\n",
    "## Author: Daniel Meier\n",
    "## Date: 28 November 2023\n",
    "## Description: Complete Exercises 1 through 4 on the Week 1 Assignment"
   ]
  },
  {
   "cell_type": "code",
   "execution_count": 378,
   "id": "3eedd238",
   "metadata": {},
   "outputs": [],
   "source": [
    "import pandas as pd\n",
    "import numpy as np\n",
    "import matplotlib.pyplot as plt\n",
    "\n",
    "house_df = pd.read_csv('housing_data.csv')\n",
    "mushroom_df = pd.read_csv('mushroom_data.csv')"
   ]
  },
  {
   "cell_type": "markdown",
   "id": "bfb601be",
   "metadata": {},
   "source": [
    "# Exercise 1"
   ]
  },
  {
   "cell_type": "markdown",
   "id": "20fad99d",
   "metadata": {},
   "source": [
    "### (A)"
   ]
  },
  {
   "cell_type": "code",
   "execution_count": 379,
   "id": "8d7b0c62",
   "metadata": {},
   "outputs": [],
   "source": [
    "# Creating the Root Mean Squared Error Function\n",
    "\n",
    "def RMSE(actual_arr, predicted_arr):\n",
    "    answer = np.sqrt((np.sum(np.square(predicted_arr - actual_arr))) / len(actual_arr))\n",
    "    return answer"
   ]
  },
  {
   "cell_type": "markdown",
   "id": "e17644ea",
   "metadata": {},
   "source": [
    "### (B)"
   ]
  },
  {
   "cell_type": "code",
   "execution_count": 380,
   "id": "a5375c48",
   "metadata": {},
   "outputs": [],
   "source": [
    "# Converting these columns in the original dataset to arrays to feed in to the function\n",
    "\n",
    "actual_price = np.array(house_df['sale_price'])\n",
    "predicted_price = np.array(house_df['sale_price_pred'])"
   ]
  },
  {
   "cell_type": "code",
   "execution_count": 381,
   "id": "73973220",
   "metadata": {},
   "outputs": [
    {
     "name": "stdout",
     "output_type": "stream",
     "text": [
      "The Root Mean Squared Error for the Sale Prices is: $55064.07\n"
     ]
    }
   ],
   "source": [
    "# This is applying the function that was built previously and formating the value to have a dollar \n",
    "# sign preceding it and to format the results with only 2 decimal places\n",
    "\n",
    "print('The Root Mean Squared Error for the Sale Prices is:', '$' + '{:.2f}'.format(RMSE(actual_price, predicted_price)))"
   ]
  },
  {
   "cell_type": "code",
   "execution_count": 382,
   "id": "18f70e1d",
   "metadata": {},
   "outputs": [
    {
     "data": {
      "text/plain": [
       "'55064.07'"
      ]
     },
     "execution_count": 382,
     "metadata": {},
     "output_type": "execute_result"
    }
   ],
   "source": [
    "# Using the built in function from sklearn to check my work\n",
    "\n",
    "from sklearn.metrics import mean_squared_error\n",
    "\n",
    "'{:.2f}'.format(sqrt(mean_squared_error(actual_price, predicted_price)))"
   ]
  },
  {
   "cell_type": "markdown",
   "id": "ca453d89",
   "metadata": {},
   "source": [
    "# Exercise 2"
   ]
  },
  {
   "cell_type": "markdown",
   "id": "6c8f1ca1",
   "metadata": {},
   "source": [
    "### (A)"
   ]
  },
  {
   "cell_type": "code",
   "execution_count": 383,
   "id": "44f0a147",
   "metadata": {},
   "outputs": [],
   "source": [
    "# Creating the Mean Absolute Error Function\n",
    "\n",
    "def MAE(actual_arr, predicted_arr):\n",
    "    answer = (np.sum(np.abs(predicted_arr - actual_arr)))/len(actual_arr)\n",
    "    return answer"
   ]
  },
  {
   "cell_type": "markdown",
   "id": "51f49973",
   "metadata": {},
   "source": [
    "### (B)"
   ]
  },
  {
   "cell_type": "code",
   "execution_count": 384,
   "id": "aedbef50",
   "metadata": {},
   "outputs": [
    {
     "name": "stdout",
     "output_type": "stream",
     "text": [
      "The Mean Absolute Error for the Sale Prices is: $37438.69\n"
     ]
    }
   ],
   "source": [
    "# This is applying the function that was built in the previous cell and formating the value to have \n",
    "# a dollar sign preceding it and to format the results with only 2 decimal places\n",
    "\n",
    "print('The Mean Absolute Error for the Sale Prices is:', '$' + '{:.2f}'.format(MAE(actual_price, predicted_price)))"
   ]
  },
  {
   "cell_type": "code",
   "execution_count": 385,
   "id": "64ddce15",
   "metadata": {},
   "outputs": [
    {
     "data": {
      "text/plain": [
       "'37438.69'"
      ]
     },
     "execution_count": 385,
     "metadata": {},
     "output_type": "execute_result"
    }
   ],
   "source": [
    "# Using the built in function from sklearn to check my work\n",
    "\n",
    "from sklearn.metrics import mean_absolute_error \n",
    "\n",
    "'{:.2f}'.format(mean_absolute_error(actual_price, predicted_price))"
   ]
  },
  {
   "cell_type": "markdown",
   "id": "820448d9",
   "metadata": {},
   "source": [
    "# Exercise 3"
   ]
  },
  {
   "cell_type": "markdown",
   "id": "dce56fdc",
   "metadata": {},
   "source": [
    "### (A)"
   ]
  },
  {
   "cell_type": "code",
   "execution_count": 386,
   "id": "d05630b6",
   "metadata": {},
   "outputs": [],
   "source": [
    "# Creating the formula to calculate the accuracy\n",
    "\n",
    "def binary_accuracy(actual_arr, predicted_arr):\n",
    "    answer = (np.sum(actual_arr == predicted_arr))/ len(actual_arr)\n",
    "    return answer"
   ]
  },
  {
   "cell_type": "markdown",
   "id": "b4776be9",
   "metadata": {},
   "source": [
    "### (B)"
   ]
  },
  {
   "cell_type": "code",
   "execution_count": 387,
   "id": "ccc0f186",
   "metadata": {},
   "outputs": [],
   "source": [
    "# Converting dataframe columns to arrays to feed into the binary_accuracy function\n",
    "\n",
    "actual_mush = np.array(mushroom_df['actual'])\n",
    "predicted_mush = np.array(mushroom_df['predicted'])"
   ]
  },
  {
   "cell_type": "code",
   "execution_count": 388,
   "id": "8cd03b15",
   "metadata": {},
   "outputs": [
    {
     "name": "stdout",
     "output_type": "stream",
     "text": [
      "The percentage of correct predictions = 84.71%\n"
     ]
    }
   ],
   "source": [
    "print('The percentage of correct predictions = ' '{:.2f}'.format(binary_accuracy(actual_mush, predicted_mush)*100) +'%')"
   ]
  },
  {
   "cell_type": "code",
   "execution_count": 389,
   "id": "5e461385",
   "metadata": {},
   "outputs": [
    {
     "data": {
      "text/plain": [
       "'84.71%'"
      ]
     },
     "execution_count": 389,
     "metadata": {},
     "output_type": "execute_result"
    }
   ],
   "source": [
    "# Using built in function from sklearn to check my work\n",
    "\n",
    "from sklearn.metrics import accuracy_score\n",
    "\n",
    "'{:.2f}'.format(accuracy_score(actual_mush, predicted_mush)*100) +'%'"
   ]
  },
  {
   "cell_type": "markdown",
   "id": "937c21eb",
   "metadata": {},
   "source": [
    "# Exercise 4"
   ]
  },
  {
   "cell_type": "markdown",
   "id": "6b59bd9f",
   "metadata": {},
   "source": [
    "### (A)"
   ]
  },
  {
   "cell_type": "code",
   "execution_count": 315,
   "id": "3326311e",
   "metadata": {},
   "outputs": [],
   "source": [
    "# Creating the plot and the function to feed into the plot\n",
    "\n",
    "plt.rcParams[\"figure.figsize\"] = [10, 5]\n",
    "\n",
    "def f(p):\n",
    "    return .005*p**6 - 0.27*p**5 + 5.998*p**4 - 69.919*p**3 + 449.17*p**2 - 1499.7*p + 2028"
   ]
  },
  {
   "cell_type": "code",
   "execution_count": 372,
   "id": "e4ce51f1",
   "metadata": {},
   "outputs": [],
   "source": [
    "# Creating an array of values to feed in to the function (which will be the y values) \n",
    "# to then graph\n",
    "\n",
    "x = np.linspace(-10, 30, 41)\n",
    "y = f(x)"
   ]
  },
  {
   "cell_type": "code",
   "execution_count": 373,
   "id": "260a3520",
   "metadata": {},
   "outputs": [
    {
     "name": "stdout",
     "output_type": "stream",
     "text": [
      "[-10.  -9.  -8.  -7.  -6.  -5.  -4.  -3.  -2.  -1.   0.   1.   2.   3.\n",
      "   4.   5.   6.   7.   8.   9.  10.  11.  12.  13.  14.  15.  16.  17.\n",
      "  18.  19.  20.  21.  22.  23.  24.  25.  26.  27.  28.  29.  30.]\n"
     ]
    }
   ],
   "source": [
    "print(x)"
   ]
  },
  {
   "cell_type": "code",
   "execution_count": 374,
   "id": "ad998f91",
   "metadata": {},
   "outputs": [
    {
     "name": "stdout",
     "output_type": "stream",
     "text": [
      "[2.23841000e+05 1.60832334e+05 1.13296896e+05 7.80447800e+04\n",
      " 5.24050320e+04 3.41662500e+04 2.15207840e+04 1.30125360e+04\n",
      " 7.48836000e+03 4.05306200e+03 2.02800000e+03 9.13284000e+02\n",
      " 3.53576000e+02 1.07490000e+02 2.05920000e+01 2.00000000e+00\n",
      " 4.58400000e+00 8.76600000e+00 9.92000000e+00 9.37200000e+00\n",
      " 9.00000000e+00 9.43400000e+00 1.18560000e+01 2.34000000e+01\n",
      " 6.61520000e+01 1.89750000e+02 4.87584000e+02 1.11659600e+03\n",
      " 2.32068000e+03 4.45768200e+03 8.03000000e+03 1.37187840e+04\n",
      " 2.24217360e+04 3.52945100e+04 5.37957120e+04 7.97355000e+04\n",
      " 1.15327784e+05 1.63246026e+05 2.26682640e+05 3.09411992e+05\n",
      " 4.15857000e+05]\n"
     ]
    }
   ],
   "source": [
    "# This shows what y is at each of the x values above\n",
    "\n",
    "print(y)"
   ]
  },
  {
   "cell_type": "code",
   "execution_count": 375,
   "id": "94ff15ab",
   "metadata": {},
   "outputs": [
    {
     "data": {
      "image/png": "[encoded data removed]",
      "text/plain": [
       "<Figure size 1000x500 with 1 Axes>"
      ]
     },
     "metadata": {},
     "output_type": "display_data"
    }
   ],
   "source": [
    "# Plotting the function\n",
    "\n",
    "plt.text(-10, 350000, \"f(p) = .005*p**6 - 0.27*p**5 + 5.998*p**4 - 69.919*p**3 + 449.17*p**2 - 1499.7*p + 2028\", \n",
    "         bbox=dict(facecolor='yellow', alpha=1))\n",
    "\n",
    "plt.plot(x, y, color ='blue', linestyle = \"--\");"
   ]
  },
  {
   "cell_type": "markdown",
   "id": "c9b783f6",
   "metadata": {},
   "source": [
    "### (B)"
   ]
  },
  {
   "cell_type": "code",
   "execution_count": 376,
   "id": "46da9255",
   "metadata": {},
   "outputs": [
    {
     "data": {
      "text/plain": [
       "array([[-1.00000000e+01,  2.23841000e+05],\n",
       "       [-9.00000000e+00,  1.60832334e+05],\n",
       "       [-8.00000000e+00,  1.13296896e+05],\n",
       "       [-7.00000000e+00,  7.80447800e+04],\n",
       "       [-6.00000000e+00,  5.24050320e+04],\n",
       "       [-5.00000000e+00,  3.41662500e+04],\n",
       "       [-4.00000000e+00,  2.15207840e+04],\n",
       "       [-3.00000000e+00,  1.30125360e+04],\n",
       "       [-2.00000000e+00,  7.48836000e+03],\n",
       "       [-1.00000000e+00,  4.05306200e+03],\n",
       "       [ 0.00000000e+00,  2.02800000e+03],\n",
       "       [ 1.00000000e+00,  9.13284000e+02],\n",
       "       [ 2.00000000e+00,  3.53576000e+02],\n",
       "       [ 3.00000000e+00,  1.07490000e+02],\n",
       "       [ 4.00000000e+00,  2.05920000e+01],\n",
       "       [ 5.00000000e+00,  2.00000000e+00],\n",
       "       [ 6.00000000e+00,  4.58400000e+00],\n",
       "       [ 7.00000000e+00,  8.76600000e+00],\n",
       "       [ 8.00000000e+00,  9.92000000e+00],\n",
       "       [ 9.00000000e+00,  9.37200000e+00],\n",
       "       [ 1.00000000e+01,  9.00000000e+00],\n",
       "       [ 1.10000000e+01,  9.43400000e+00],\n",
       "       [ 1.20000000e+01,  1.18560000e+01],\n",
       "       [ 1.30000000e+01,  2.34000000e+01],\n",
       "       [ 1.40000000e+01,  6.61520000e+01],\n",
       "       [ 1.50000000e+01,  1.89750000e+02],\n",
       "       [ 1.60000000e+01,  4.87584000e+02],\n",
       "       [ 1.70000000e+01,  1.11659600e+03],\n",
       "       [ 1.80000000e+01,  2.32068000e+03],\n",
       "       [ 1.90000000e+01,  4.45768200e+03],\n",
       "       [ 2.00000000e+01,  8.03000000e+03],\n",
       "       [ 2.10000000e+01,  1.37187840e+04],\n",
       "       [ 2.20000000e+01,  2.24217360e+04],\n",
       "       [ 2.30000000e+01,  3.52945100e+04],\n",
       "       [ 2.40000000e+01,  5.37957120e+04],\n",
       "       [ 2.50000000e+01,  7.97355000e+04],\n",
       "       [ 2.60000000e+01,  1.15327784e+05],\n",
       "       [ 2.70000000e+01,  1.63246026e+05],\n",
       "       [ 2.80000000e+01,  2.26682640e+05],\n",
       "       [ 2.90000000e+01,  3.09411992e+05],\n",
       "       [ 3.00000000e+01,  4.15857000e+05]])"
      ]
     },
     "execution_count": 376,
     "metadata": {},
     "output_type": "execute_result"
    }
   ],
   "source": [
    "# The value of p that minimizes the error is 5 as this value is what gets y (or the error measurement) \n",
    "# the closest to 0 before the subsequent x values that are applied cause the y values to continually increase\n",
    "\n",
    "merged_xy = np.stack((x, y), axis=1)\n",
    "merged_xy"
   ]
  },
  {
   "cell_type": "markdown",
   "id": "53a5e0f4",
   "metadata": {},
   "source": [
    "### (C)"
   ]
  },
  {
   "cell_type": "code",
   "execution_count": 377,
   "id": "c7ec7178",
   "metadata": {},
   "outputs": [
    {
     "data": {
      "text/plain": [
       "2.0"
      ]
     },
     "execution_count": 377,
     "metadata": {},
     "output_type": "execute_result"
    }
   ],
   "source": [
    "# The minimum error estimate is 2 as that is the lowest value of y at the given x value of 5\n",
    "\n",
    "np.min(y)"
   ]
  },
  {
   "cell_type": "code",
   "execution_count": null,
   "id": "cf296baf",
   "metadata": {},
   "outputs": [],
   "source": []
  }
 ],
 "metadata": {
  "kernelspec": {
   "display_name": "Python 3 (ipykernel)",
   "language": "python",
   "name": "python3"
  },
  "language_info": {
   "codemirror_mode": {
    "name": "ipython",
    "version": 3
   },
   "file_extension": ".py",
   "mimetype": "text/x-python",
   "name": "python",
   "nbconvert_exporter": "python",
   "pygments_lexer": "ipython3",
   "version": "3.11.5"
  }
 },
 "nbformat": 4,
 "nbformat_minor": 5
}
