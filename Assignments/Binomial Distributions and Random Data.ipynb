{
 "cells": [
  {
   "cell_type": "markdown",
   "id": "b8126505",
   "metadata": {},
   "source": [
    "# 1. Using the Binomial Distribution"
   ]
  },
  {
   "cell_type": "markdown",
   "id": "9e96fd25",
   "metadata": {},
   "source": [
    "## (a)"
   ]
  },
  {
   "cell_type": "code",
   "execution_count": 2,
   "id": "57b35014",
   "metadata": {},
   "outputs": [
    {
     "data": {
      "text/plain": [
       "85.12830492077244"
      ]
     },
     "execution_count": 2,
     "metadata": {},
     "output_type": "execute_result"
    }
   ],
   "source": [
    "import numpy as np\n",
    "from scipy.stats import binom\n",
    "np.sum([binom.pmf(k,15,0.63) for k in range(8, 16)]) * 100"
   ]
  },
  {
   "cell_type": "markdown",
   "id": "12aa539a",
   "metadata": {},
   "source": [
    "## (b)"
   ]
  },
  {
   "cell_type": "code",
   "execution_count": 3,
   "id": "0b657892",
   "metadata": {},
   "outputs": [
    {
     "data": {
      "text/plain": [
       "94.99874599462244"
      ]
     },
     "execution_count": 3,
     "metadata": {},
     "output_type": "execute_result"
    }
   ],
   "source": [
    "np.sum([binom.pmf(k,15,0.70) for k in range(8, 16)]) * 100"
   ]
  },
  {
   "cell_type": "code",
   "execution_count": 4,
   "id": "a1cc3282",
   "metadata": {},
   "outputs": [
    {
     "data": {
      "text/plain": [
       "95.86548819437412"
      ]
     },
     "execution_count": 4,
     "metadata": {},
     "output_type": "execute_result"
    }
   ],
   "source": [
    "np.sum([binom.pmf(k,15,0.71) for k in range(8, 16)]) * 100"
   ]
  },
  {
   "cell_type": "markdown",
   "id": "98846515",
   "metadata": {},
   "source": [
    "## (c)"
   ]
  },
  {
   "cell_type": "code",
   "execution_count": 5,
   "id": "028fcb71",
   "metadata": {},
   "outputs": [
    {
     "data": {
      "text/plain": [
       "90.92451949845788"
      ]
     },
     "execution_count": 5,
     "metadata": {},
     "output_type": "execute_result"
    }
   ],
   "source": [
    "np.sum([binom.pmf(k,25,0.63) for k in range(13, 25)]) * 100"
   ]
  },
  {
   "cell_type": "code",
   "execution_count": 6,
   "id": "37fa9e6e",
   "metadata": {},
   "outputs": [
    {
     "data": {
      "text/plain": [
       "94.25396809647803"
      ]
     },
     "execution_count": 6,
     "metadata": {},
     "output_type": "execute_result"
    }
   ],
   "source": [
    "np.sum([binom.pmf(k,35,0.63) for k in range(18, 36)]) * 100"
   ]
  },
  {
   "cell_type": "code",
   "execution_count": 7,
   "id": "7bee24e4",
   "metadata": {},
   "outputs": [
    {
     "data": {
      "text/plain": [
       "95.18315826463694"
      ]
     },
     "execution_count": 7,
     "metadata": {},
     "output_type": "execute_result"
    }
   ],
   "source": [
    "np.sum([binom.pmf(k,39,0.63) for k in range(20, 40)]) * 100"
   ]
  },
  {
   "cell_type": "code",
   "execution_count": 8,
   "id": "4b6bafee",
   "metadata": {},
   "outputs": [
    {
     "data": {
      "text/plain": [
       "94.74099996997168"
      ]
     },
     "execution_count": 8,
     "metadata": {},
     "output_type": "execute_result"
    }
   ],
   "source": [
    "np.sum([binom.pmf(k,37,0.63) for k in range(19, 38)]) * 100"
   ]
  },
  {
   "cell_type": "markdown",
   "id": "d2ef0889",
   "metadata": {},
   "source": [
    "It would appear that there needs to be 39 models at 63% accuracy in order to get an overall accuracy for the ensemble model to be above 95%"
   ]
  },
  {
   "cell_type": "markdown",
   "id": "2ae8b136",
   "metadata": {},
   "source": [
    "# 2. Working with Random Data"
   ]
  },
  {
   "cell_type": "markdown",
   "id": "ec18c44f",
   "metadata": {},
   "source": [
    "## (a)"
   ]
  },
  {
   "cell_type": "code",
   "execution_count": 289,
   "id": "28ba867b",
   "metadata": {},
   "outputs": [],
   "source": [
    "import random\n",
    "import matplotlib.pyplot as plt"
   ]
  },
  {
   "cell_type": "code",
   "execution_count": 241,
   "id": "8c2b9234",
   "metadata": {},
   "outputs": [],
   "source": [
    "# Compute the PMF (probability mass function)\n",
    "def pmf(start, stop, iterations):\n",
    "    counts = 0\n",
    "    bins = []\n",
    "    values = np.random.randint(start, stop, size=iterations)\n",
    "    counts, bins = np.histogram(values, bins=np.arange(start, stop + 1))\n",
    "    prob = counts / float(counts.sum())\n",
    "    return values"
   ]
  },
  {
   "cell_type": "code",
   "execution_count": 313,
   "id": "f20641ad",
   "metadata": {},
   "outputs": [
    {
     "data": {
      "text/plain": [
       "array([5, 5, 1, 5, 5, 3, 1, 1, 5, 2, 5, 5, 2, 4, 3, 1, 2, 2, 4, 5, 4, 5,\n",
       "       3, 1, 4, 1, 5, 2, 1, 3, 1, 1, 5, 4, 3, 1, 3, 2, 3, 3, 5, 2, 3, 3,\n",
       "       2, 1, 4, 3, 5, 1])"
      ]
     },
     "execution_count": 313,
     "metadata": {},
     "output_type": "execute_result"
    }
   ],
   "source": [
    "pmf(1, 6, 50)"
   ]
  },
  {
   "cell_type": "markdown",
   "id": "1f130a8c",
   "metadata": {},
   "source": [
    "## (b)"
   ]
  },
  {
   "cell_type": "code",
   "execution_count": 247,
   "id": "00800737",
   "metadata": {},
   "outputs": [],
   "source": [
    "def rand_values(func):\n",
    "    rand_mean = func.mean()\n",
    "    return rand_mean"
   ]
  },
  {
   "cell_type": "code",
   "execution_count": 315,
   "id": "b162b083",
   "metadata": {},
   "outputs": [
    {
     "data": {
      "text/plain": [
       "3.24"
      ]
     },
     "execution_count": 315,
     "metadata": {},
     "output_type": "execute_result"
    }
   ],
   "source": [
    "rand_values(pmf(1, 6, 50))"
   ]
  },
  {
   "cell_type": "markdown",
   "id": "567a00b8",
   "metadata": {},
   "source": [
    "## (c)"
   ]
  },
  {
   "cell_type": "code",
   "execution_count": 316,
   "id": "03c539f6",
   "metadata": {},
   "outputs": [],
   "source": [
    "def rand_values_2(func, func_iterations):\n",
    "    rand_mean_df = []\n",
    "    for i in range(func_iterations):\n",
    "        rand_mean = func.mean()\n",
    "        rand_mean_df.append(rand_mean)\n",
    "    return rand_mean_df"
   ]
  },
  {
   "cell_type": "code",
   "execution_count": 317,
   "id": "299afd88",
   "metadata": {},
   "outputs": [
    {
     "data": {
      "text/plain": [
       "1000"
      ]
     },
     "execution_count": 317,
     "metadata": {},
     "output_type": "execute_result"
    }
   ],
   "source": [
    "values = rand_values_2(pmf(1, 6, 50), 1000)\n",
    "len(values)"
   ]
  },
  {
   "cell_type": "markdown",
   "id": "ba43ee58",
   "metadata": {},
   "source": [
    "## (d)"
   ]
  },
  {
   "cell_type": "code",
   "execution_count": 310,
   "id": "4b880bf2",
   "metadata": {},
   "outputs": [
    {
     "data": {
      "image/png": "[encoded data removed]",
      "text/plain": [
       "<Figure size 640x480 with 1 Axes>"
      ]
     },
     "metadata": {},
     "output_type": "display_data"
    }
   ],
   "source": [
    "plt.hist(values, bins = 5)\n",
    "plt.ylabel(\"Count of Means\")\n",
    "plt.xlabel(\"Mean Values\")\n",
    "plt.title(\"Distribution of Mean Values\");"
   ]
  },
  {
   "cell_type": "markdown",
   "id": "224d7074",
   "metadata": {},
   "source": [
    "## (e)"
   ]
  },
  {
   "cell_type": "code",
   "execution_count": 305,
   "id": "060ef59c",
   "metadata": {},
   "outputs": [
    {
     "data": {
      "text/plain": [
       "2.9399999999999995"
      ]
     },
     "execution_count": 305,
     "metadata": {},
     "output_type": "execute_result"
    }
   ],
   "source": [
    "mean_values = np.mean(values)\n",
    "mean_values"
   ]
  },
  {
   "cell_type": "code",
   "execution_count": 306,
   "id": "9103703a",
   "metadata": {},
   "outputs": [
    {
     "data": {
      "text/plain": [
       "4.440892098500626e-16"
      ]
     },
     "execution_count": 306,
     "metadata": {},
     "output_type": "execute_result"
    }
   ],
   "source": [
    "std_values = np.std(values)\n",
    "std_values"
   ]
  },
  {
   "cell_type": "code",
   "execution_count": null,
   "id": "95667aae",
   "metadata": {},
   "outputs": [],
   "source": []
  }
 ],
 "metadata": {
  "kernelspec": {
   "display_name": "Python 3 (ipykernel)",
   "language": "python",
   "name": "python3"
  },
  "language_info": {
   "codemirror_mode": {
    "name": "ipython",
    "version": 3
   },
   "file_extension": ".py",
   "mimetype": "text/x-python",
   "name": "python",
   "nbconvert_exporter": "python",
   "pygments_lexer": "ipython3",
   "version": "3.11.5"
  }
 },
 "nbformat": 4,
 "nbformat_minor": 5
}
