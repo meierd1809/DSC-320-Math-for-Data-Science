{
 "cells": [
  {
   "cell_type": "code",
   "execution_count": 197,
   "id": "60e20b62",
   "metadata": {},
   "outputs": [],
   "source": [
    "import numpy as np\n",
    "import sympy as sym\n",
    "from sympy import limit, Symbol\n",
    "from sympy import *"
   ]
  },
  {
   "cell_type": "markdown",
   "id": "b97635ee",
   "metadata": {},
   "source": [
    "# Exercise 1 - Calculating Limits Numerically"
   ]
  },
  {
   "cell_type": "markdown",
   "id": "29bc8ac5",
   "metadata": {},
   "source": [
    "## (A)"
   ]
  },
  {
   "cell_type": "code",
   "execution_count": 186,
   "id": "b9c67122",
   "metadata": {},
   "outputs": [],
   "source": [
    "def f(x):\n",
    "    return 2*x**3 - 4*x + 1"
   ]
  },
  {
   "cell_type": "code",
   "execution_count": 193,
   "id": "e7c6fc8b",
   "metadata": {},
   "outputs": [
    {
     "data": {
      "text/latex": [
       "$\\displaystyle 43$"
      ],
      "text/plain": [
       "43"
      ]
     },
     "execution_count": 193,
     "metadata": {},
     "output_type": "execute_result"
    }
   ],
   "source": [
    "x = Symbol('x')\n",
    "limit(f(x), x, 3)"
   ]
  },
  {
   "cell_type": "markdown",
   "id": "41009222",
   "metadata": {},
   "source": [
    "## (B)"
   ]
  },
  {
   "cell_type": "code",
   "execution_count": 205,
   "id": "331fe346",
   "metadata": {},
   "outputs": [
    {
     "data": {
      "text/latex": [
       "$\\displaystyle \\log{\\left(e \\right)}$"
      ],
      "text/plain": [
       "log(e)"
      ]
     },
     "execution_count": 205,
     "metadata": {},
     "output_type": "execute_result"
    }
   ],
   "source": [
    "def g(x):\n",
    "    return (e**x -1)/x\n",
    "\n",
    "x = Symbol('x')\n",
    "e = Symbol('e')\n",
    "limit(g(x), x, 0)"
   ]
  },
  {
   "cell_type": "markdown",
   "id": "85c2e97a",
   "metadata": {},
   "source": [
    "## (C)"
   ]
  },
  {
   "cell_type": "markdown",
   "id": "c5427ee7",
   "metadata": {},
   "source": []
  },
  {
   "cell_type": "markdown",
   "id": "f84875de",
   "metadata": {},
   "source": [
    "# Exercise 2 - Average Rate of Change"
   ]
  },
  {
   "cell_type": "code",
   "execution_count": 44,
   "id": "21ec4ac7",
   "metadata": {},
   "outputs": [
    {
     "name": "stdout",
     "output_type": "stream",
     "text": [
      "Input first value: 20\n",
      "Input second value: 15\n",
      "The average rate of change of f(y) = 3y^2 between points 20 and 15 is: 105.0\n"
     ]
    }
   ],
   "source": [
    "# Creating the initial 3y^2 function\n",
    "def f(y):\n",
    "    return 3*y**2\n",
    "\n",
    "# Creating the rate of change function that will utilize the original f(y) function\n",
    "def rate_of_change(a, b):\n",
    "    return (f(b) - f(a))/(b - a)\n",
    "\n",
    "# This accepts user input to put in the values for a and b in order to see the rate of change between different values\n",
    "a = int(input(\"Input first value: \"))\n",
    "b = int(input(\"Input second value: \"))\n",
    "\n",
    "test_rate = rate_of_change(a, b)\n",
    "\n",
    "print(f'The average rate of change of f(y) = 3y^2 between points {a} and {b} is: {test_rate}')"
   ]
  },
  {
   "cell_type": "markdown",
   "id": "c70cf4a2",
   "metadata": {},
   "source": [
    "# Exercise 3 - Average Rate of Change to Instantaneous Rate of Change"
   ]
  },
  {
   "cell_type": "markdown",
   "id": "763569a2",
   "metadata": {},
   "source": [
    "## (A)"
   ]
  },
  {
   "cell_type": "code",
   "execution_count": 151,
   "id": "32c94db8",
   "metadata": {},
   "outputs": [
    {
     "name": "stdout",
     "output_type": "stream",
     "text": [
      "Average speed of a baseball between 5 and 6 seconds is: 53.900 meters per second\n"
     ]
    }
   ],
   "source": [
    "def f(x):\n",
    "    return 4.9*x**2\n",
    "\n",
    "def rate_of_speed(a, b):\n",
    "    return (f(b) - f(a))/(b - a)\n",
    "\n",
    "print(f\"Average speed of a baseball between 5 and 6 seconds is: {'{:.3f}'.format(rate_of_speed(5, 6))} meters per second\")"
   ]
  },
  {
   "cell_type": "markdown",
   "id": "0e5c7fdd",
   "metadata": {},
   "source": [
    "## (B)"
   ]
  },
  {
   "cell_type": "code",
   "execution_count": 152,
   "id": "2d9a492b",
   "metadata": {},
   "outputs": [
    {
     "name": "stdout",
     "output_type": "stream",
     "text": [
      "Average speed of a baseball between 5 and 5.5 seconds is: 51.450 meters per second\n"
     ]
    }
   ],
   "source": [
    "print(f\"Average speed of a baseball between 5 and 5.5 seconds is: {'{:.3f}'.format(rate_of_speed(5, 5.5))} meters per second\")"
   ]
  },
  {
   "cell_type": "markdown",
   "id": "f87e37e9",
   "metadata": {},
   "source": [
    "## (C)"
   ]
  },
  {
   "cell_type": "code",
   "execution_count": 153,
   "id": "147328cc",
   "metadata": {},
   "outputs": [
    {
     "name": "stdout",
     "output_type": "stream",
     "text": [
      "Average speed of a baseball between 5 and 5.1 seconds is: 49.490 meters per second\n"
     ]
    }
   ],
   "source": [
    "print(f\"Average speed of a baseball between 5 and 5.1 seconds is: {'{:.3f}'.format(rate_of_speed(5, 5.1))} meters per second\")"
   ]
  },
  {
   "cell_type": "code",
   "execution_count": 154,
   "id": "a8f3743c",
   "metadata": {},
   "outputs": [
    {
     "name": "stdout",
     "output_type": "stream",
     "text": [
      "Average speed of a baseball between 5 and 5.1 seconds is: 49.049 meters per second\n"
     ]
    }
   ],
   "source": [
    "print(f\"Average speed of a baseball between 5 and 5.1 seconds is: {'{:.3f}'.format(rate_of_speed(5, 5.01))} meters per second\")"
   ]
  },
  {
   "cell_type": "markdown",
   "id": "c787a6cf",
   "metadata": {},
   "source": [
    "## (D)"
   ]
  },
  {
   "cell_type": "code",
   "execution_count": 118,
   "id": "ea8d99e1",
   "metadata": {},
   "outputs": [
    {
     "name": "stdout",
     "output_type": "stream",
     "text": [
      "4.9*x**2\n",
      "9.8*x\n"
     ]
    }
   ],
   "source": [
    "# At 5 seconds, instantaneous rate of speed is the following:\n",
    "x = Symbol('x')\n",
    "t = 4.9*x**2\n",
    "\n",
    "t_prime = t.diff(x)\n",
    "print(t_prime)"
   ]
  },
  {
   "cell_type": "code",
   "execution_count": 119,
   "id": "b88d4a0a",
   "metadata": {},
   "outputs": [
    {
     "name": "stdout",
     "output_type": "stream",
     "text": [
      "Input time in seconds: 5\n",
      "The instantaneous speed of the baseball at 5 seconds = 49.0 meters/second\n"
     ]
    }
   ],
   "source": [
    "# The instantaneous rate of speed is as follows:\n",
    "\n",
    "time = int(input(\"Input time in seconds: \"))\n",
    "insta_speed = 9.8*time\n",
    "print(f\"The instantaneous speed of the baseball at {time} seconds = {insta_speed} meters/second\")"
   ]
  },
  {
   "cell_type": "markdown",
   "id": "c2254558",
   "metadata": {},
   "source": [
    "## (E)"
   ]
  },
  {
   "cell_type": "code",
   "execution_count": 155,
   "id": "6e3790ce",
   "metadata": {},
   "outputs": [
    {
     "name": "stdout",
     "output_type": "stream",
     "text": [
      "The derivative of 4.9*x**2 = 9.8*x\n"
     ]
    }
   ],
   "source": [
    "expr_diff = sym.Derivative(f(x), x).doit()\n",
    "\n",
    "print(f\"The derivative of {t} = {expr_diff}\")"
   ]
  },
  {
   "cell_type": "markdown",
   "id": "b7587c98",
   "metadata": {},
   "source": [
    "## (F)"
   ]
  },
  {
   "cell_type": "code",
   "execution_count": 182,
   "id": "7a160269",
   "metadata": {},
   "outputs": [
    {
     "name": "stdout",
     "output_type": "stream",
     "text": [
      "Input a value for x: 5\n",
      "The derivative of 4.9*x**2 at 5 seconds = 49.0\n"
     ]
    }
   ],
   "source": [
    "x = int(input(\"Input a value for x: \"))\n",
    "deriv_func = 9.8*x\n",
    "print(f\"The derivative of {t} at {time} seconds = {deriv_func}\")"
   ]
  },
  {
   "cell_type": "markdown",
   "id": "37e39b02",
   "metadata": {},
   "source": [
    "# Exercise 4 - Calculating and Interpreting Partial Derivatives"
   ]
  },
  {
   "cell_type": "markdown",
   "id": "9df469b5",
   "metadata": {},
   "source": [
    "## (A)"
   ]
  },
  {
   "cell_type": "code",
   "execution_count": 177,
   "id": "94a0af4f",
   "metadata": {},
   "outputs": [
    {
     "name": "stdout",
     "output_type": "stream",
     "text": [
      "Enter current condition value: 8\n",
      "Enter age of car: 5\n",
      "The value of a car that is 5 years old with a condition rating of 8 = $26200\n"
     ]
    }
   ],
   "source": [
    "def P(C, Y):\n",
    "    return 16000 + 2400*C - 1800*Y\n",
    "\n",
    "C = int(input(\"Enter current condition value: \"))\n",
    "Y = int(input(\"Enter age of car: \"))\n",
    "\n",
    "car_value = P(C, Y)\n",
    "\n",
    "print(f\"The value of a car that is {Y} years old with a condition rating of {C} = ${car_value}\")"
   ]
  },
  {
   "cell_type": "markdown",
   "id": "591d0363",
   "metadata": {},
   "source": [
    "## (B)"
   ]
  },
  {
   "cell_type": "code",
   "execution_count": 180,
   "id": "1832e83b",
   "metadata": {},
   "outputs": [
    {
     "name": "stdout",
     "output_type": "stream",
     "text": [
      "The partial derivative with respect to c = 2400\n"
     ]
    }
   ],
   "source": [
    "c = Symbol('c')\n",
    "y = Symbol('y')\n",
    "\n",
    "f = 16000 + 2400*c - 1800*y\n",
    "\n",
    "d = diff(f, c)\n",
    "print(f\"The partial derivative with respect to c = {d}\")"
   ]
  },
  {
   "cell_type": "markdown",
   "id": "13784d55",
   "metadata": {},
   "source": [
    "To find the partial derivative of this equation for c, you treat y as a constant. The derivative of a constant is always 0, so -1800y ends up being 0. 16000 is also a constant, so the derivative of that is also 0. That leaves 2400c. The derivative of a variable = 1, so this leaves f = 2400(1), which equals 2400."
   ]
  },
  {
   "cell_type": "markdown",
   "id": "5599e508",
   "metadata": {},
   "source": [
    "## (C)"
   ]
  },
  {
   "cell_type": "code",
   "execution_count": 181,
   "id": "a1d60a50",
   "metadata": {},
   "outputs": [
    {
     "name": "stdout",
     "output_type": "stream",
     "text": [
      "The partial derivative with respect to y = -1800\n"
     ]
    }
   ],
   "source": [
    "d_2 = diff(f, y)\n",
    "print(f\"The partial derivative with respect to y = {d_2}\")"
   ]
  },
  {
   "cell_type": "markdown",
   "id": "26c48502",
   "metadata": {},
   "source": [
    "To find the partial derivative of this equation for y, you treat c as a constant. The derivative of a constant is always 0, so 2400c ends up being 0. 16000 is also a constant, so the derivative of that is also 0. That leaves -1800y. The derivative of a variable = 1, so this leaves f = -1800(1), which equals -1800."
   ]
  }
 ],
 "metadata": {
  "kernelspec": {
   "display_name": "Python 3 (ipykernel)",
   "language": "python",
   "name": "python3"
  },
  "language_info": {
   "codemirror_mode": {
    "name": "ipython",
    "version": 3
   },
   "file_extension": ".py",
   "mimetype": "text/x-python",
   "name": "python",
   "nbconvert_exporter": "python",
   "pygments_lexer": "ipython3",
   "version": "3.11.5"
  }
 },
 "nbformat": 4,
 "nbformat_minor": 5
}
