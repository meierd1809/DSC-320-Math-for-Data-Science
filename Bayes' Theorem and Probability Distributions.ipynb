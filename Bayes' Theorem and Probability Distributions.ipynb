{
 "cells": [
  {
   "cell_type": "code",
   "execution_count": 48,
   "id": "5b06e782",
   "metadata": {},
   "outputs": [],
   "source": [
    "import numpy as np\n",
    "import matplotlib.pyplot as plt"
   ]
  },
  {
   "cell_type": "markdown",
   "id": "3150e2e0",
   "metadata": {},
   "source": [
    "# 1. Calculating Probabilities using Bayes' Theorem"
   ]
  },
  {
   "cell_type": "markdown",
   "id": "7cf2ca7a",
   "metadata": {},
   "source": [
    "## (a)"
   ]
  },
  {
   "cell_type": "code",
   "execution_count": 49,
   "id": "3f44ffd1",
   "metadata": {},
   "outputs": [],
   "source": [
    "p_A = 0.5\n",
    "p_B = 0.3\n",
    "p_C = 0.2\n",
    "\n",
    "p_A_def = 0.03\n",
    "p_A_not_def = 0.97\n",
    "\n",
    "p_B_def = 0.02\n",
    "p_B_not_def = 0.98\n",
    "\n",
    "p_C_def = 0.04\n",
    "p_C_not_def = 0.96\n",
    "\n",
    "p_def = p_A_def * p_A + p_B_def * p_B + p_C_def * p_C\n",
    "\n",
    "p_not_def = p_A_not_def * p_A + p_B_not_def * p_B + p_C_not_def * p_C"
   ]
  },
  {
   "cell_type": "code",
   "execution_count": 55,
   "id": "4a502190",
   "metadata": {},
   "outputs": [
    {
     "name": "stdout",
     "output_type": "stream",
     "text": [
      "0.028999999999999998\n",
      "0.9709999999999999\n",
      "0.9999999999999999\n"
     ]
    }
   ],
   "source": [
    "print(p_def)\n",
    "print(p_not_def)\n",
    "print(p_def + p_not_def)"
   ]
  },
  {
   "cell_type": "code",
   "execution_count": 50,
   "id": "69454d7c",
   "metadata": {},
   "outputs": [],
   "source": [
    "def bayes_theorem(p_x, p_y, p_x_y):\n",
    "    return (p_x * p_x_y)/p_y"
   ]
  },
  {
   "cell_type": "code",
   "execution_count": 52,
   "id": "0fbbfc34",
   "metadata": {},
   "outputs": [
    {
     "data": {
      "text/plain": [
       "0.5172413793103449"
      ]
     },
     "execution_count": 52,
     "metadata": {},
     "output_type": "execute_result"
    }
   ],
   "source": [
    "bayes_theorem(p_A, p_def, p_A_def)"
   ]
  },
  {
   "cell_type": "markdown",
   "id": "1a46479d",
   "metadata": {},
   "source": [
    "## (b)"
   ]
  },
  {
   "cell_type": "code",
   "execution_count": 7,
   "id": "d3dc2b2d",
   "metadata": {},
   "outputs": [
    {
     "data": {
      "text/plain": [
       "0.1977342945417096"
      ]
     },
     "execution_count": 7,
     "metadata": {},
     "output_type": "execute_result"
    }
   ],
   "source": [
    "bayes_theorem(p_C, p_not_def, p_C_not_def)"
   ]
  },
  {
   "cell_type": "markdown",
   "id": "02f7db18",
   "metadata": {},
   "source": [
    "# 2. Entropy Function for a Probability Distribution"
   ]
  },
  {
   "cell_type": "code",
   "execution_count": 8,
   "id": "43454983",
   "metadata": {},
   "outputs": [],
   "source": [
    "def entropy(P):\n",
    "    return - np.sum(P * np.log2(P))"
   ]
  },
  {
   "cell_type": "code",
   "execution_count": 23,
   "id": "4bf2ed59",
   "metadata": {},
   "outputs": [
    {
     "data": {
      "text/plain": [
       "1.0"
      ]
     },
     "execution_count": 23,
     "metadata": {},
     "output_type": "execute_result"
    }
   ],
   "source": [
    "p = 0.5\n",
    "entropy(np.array([p, 1 - p]))"
   ]
  },
  {
   "cell_type": "markdown",
   "id": "508ad7fc",
   "metadata": {},
   "source": [
    "# 3. Calculating Entropies of Probability Distributions"
   ]
  },
  {
   "cell_type": "markdown",
   "id": "9bc25826",
   "metadata": {},
   "source": [
    "## (a)"
   ]
  },
  {
   "cell_type": "code",
   "execution_count": 42,
   "id": "b0160bf0",
   "metadata": {},
   "outputs": [],
   "source": [
    "p_x = np.array([0.2, 0.2, 0.2, 0.2, 0.2])\n",
    "p_y = np.array([0.1, 0.4, 0.1, 0.3, 0.1])\n",
    "\n",
    "p_x_entr = entropy(p_x)\n",
    "p_y_entr = entropy(p_y)"
   ]
  },
  {
   "cell_type": "code",
   "execution_count": 47,
   "id": "f0ae1e40",
   "metadata": {},
   "outputs": [
    {
     "name": "stdout",
     "output_type": "stream",
     "text": [
      "The entropy of the X values is: 2.32\n",
      "The entropy of the Y values is: 2.05\n"
     ]
    }
   ],
   "source": [
    "print(f\"The entropy of the X values is: {p_x_entr:.2f}\")\n",
    "print(f\"The entropy of the Y values is: {p_y_entr:.2f}\")"
   ]
  },
  {
   "cell_type": "markdown",
   "id": "b7fe478a",
   "metadata": {},
   "source": [
    "## (b)"
   ]
  },
  {
   "cell_type": "markdown",
   "id": "a7a3c37a",
   "metadata": {},
   "source": [
    "The entropy of the X values is bigger. The reason for this is that the probabilities are uniformly distributed as all 5 probabilities are the same. Since each number could occur with the same likelihood, there is more uncertainty due to the uniform distribution, resulting in the higher entropy."
   ]
  },
  {
   "cell_type": "code",
   "execution_count": null,
   "id": "392d7cc6",
   "metadata": {},
   "outputs": [],
   "source": []
  }
 ],
 "metadata": {
  "kernelspec": {
   "display_name": "Python 3 (ipykernel)",
   "language": "python",
   "name": "python3"
  },
  "language_info": {
   "codemirror_mode": {
    "name": "ipython",
    "version": 3
   },
   "file_extension": ".py",
   "mimetype": "text/x-python",
   "name": "python",
   "nbconvert_exporter": "python",
   "pygments_lexer": "ipython3",
   "version": "3.11.5"
  }
 },
 "nbformat": 4,
 "nbformat_minor": 5
}
